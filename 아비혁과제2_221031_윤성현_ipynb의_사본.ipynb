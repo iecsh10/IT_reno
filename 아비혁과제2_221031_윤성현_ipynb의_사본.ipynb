{
  "nbformat": 4,
  "nbformat_minor": 0,
  "metadata": {
    "colab": {
      "provenance": [],
      "collapsed_sections": []
    },
    "kernelspec": {
      "name": "python3",
      "display_name": "Python 3"
    },
    "language_info": {
      "name": "python"
    }
  },
  "cells": [
    {
      "cell_type": "markdown",
      "source": [
        "**health_data 불러오기**"
      ],
      "metadata": {
        "id": "ZqM8cGsuBI3R"
      }
    },
    {
      "cell_type": "code",
      "execution_count": 1,
      "metadata": {
        "colab": {
          "base_uri": "https://localhost:8080/",
          "height": 438
        },
        "id": "kNOlWEtsBGDc",
        "outputId": "2fc8c9b8-2369-42e3-820f-d0384d751c20"
      },
      "outputs": [
        {
          "output_type": "execute_result",
          "data": {
            "text/plain": [
              "   기준년도  가입자일련번호  시도코드 성별코드  연령대코드(5세단위)  신장(5Cm단위)  체중(5Kg 단위)  허리둘레  시력(좌)  \\\n",
              "0  2020        1    36    M            9        165          60  72.1    1.2   \n",
              "1  2020        2    27    F           13        150          65  81.0    0.8   \n",
              "2  2020        3    11    F           12        155          55  70.0    0.6   \n",
              "3  2020        4    31    M           13        160          70  90.8    1.0   \n",
              "4  2020        5    41    F           12        155          50  75.2    1.5   \n",
              "\n",
              "   시력(우)  ...  혈청크레아티닌  (혈청지오티)AST  (혈청지오티)ALT  감마지티피  흡연상태  음주여부  구강검진수검여부  \\\n",
              "0    1.5  ...      1.1        21.0        27.0   21.0    No    No         0   \n",
              "1    0.8  ...      0.5        18.0        15.0   15.0    No    No         0   \n",
              "2    0.7  ...      0.7        27.0        25.0    7.0    No    No         0   \n",
              "3    1.0  ...      1.2        65.0        97.0   72.0    No    No         1   \n",
              "4    1.2  ...      0.7        18.0        17.0   14.0    No    No         0   \n",
              "\n",
              "   치아우식증유무   치석     데이터공개일자  \n",
              "0      NaN  NaN  12/29/2021  \n",
              "1      NaN  NaN  12/29/2021  \n",
              "2      NaN  NaN  12/29/2021  \n",
              "3      0.0  0.0  12/29/2021  \n",
              "4      NaN  NaN  12/29/2021  \n",
              "\n",
              "[5 rows x 31 columns]"
            ],
            "text/html": [
              "\n",
              "  <div id=\"df-c7cec8a5-711a-4cc2-91d7-9c8f29cad678\">\n",
              "    <div class=\"colab-df-container\">\n",
              "      <div>\n",
              "<style scoped>\n",
              "    .dataframe tbody tr th:only-of-type {\n",
              "        vertical-align: middle;\n",
              "    }\n",
              "\n",
              "    .dataframe tbody tr th {\n",
              "        vertical-align: top;\n",
              "    }\n",
              "\n",
              "    .dataframe thead th {\n",
              "        text-align: right;\n",
              "    }\n",
              "</style>\n",
              "<table border=\"1\" class=\"dataframe\">\n",
              "  <thead>\n",
              "    <tr style=\"text-align: right;\">\n",
              "      <th></th>\n",
              "      <th>기준년도</th>\n",
              "      <th>가입자일련번호</th>\n",
              "      <th>시도코드</th>\n",
              "      <th>성별코드</th>\n",
              "      <th>연령대코드(5세단위)</th>\n",
              "      <th>신장(5Cm단위)</th>\n",
              "      <th>체중(5Kg 단위)</th>\n",
              "      <th>허리둘레</th>\n",
              "      <th>시력(좌)</th>\n",
              "      <th>시력(우)</th>\n",
              "      <th>...</th>\n",
              "      <th>혈청크레아티닌</th>\n",
              "      <th>(혈청지오티)AST</th>\n",
              "      <th>(혈청지오티)ALT</th>\n",
              "      <th>감마지티피</th>\n",
              "      <th>흡연상태</th>\n",
              "      <th>음주여부</th>\n",
              "      <th>구강검진수검여부</th>\n",
              "      <th>치아우식증유무</th>\n",
              "      <th>치석</th>\n",
              "      <th>데이터공개일자</th>\n",
              "    </tr>\n",
              "  </thead>\n",
              "  <tbody>\n",
              "    <tr>\n",
              "      <th>0</th>\n",
              "      <td>2020</td>\n",
              "      <td>1</td>\n",
              "      <td>36</td>\n",
              "      <td>M</td>\n",
              "      <td>9</td>\n",
              "      <td>165</td>\n",
              "      <td>60</td>\n",
              "      <td>72.1</td>\n",
              "      <td>1.2</td>\n",
              "      <td>1.5</td>\n",
              "      <td>...</td>\n",
              "      <td>1.1</td>\n",
              "      <td>21.0</td>\n",
              "      <td>27.0</td>\n",
              "      <td>21.0</td>\n",
              "      <td>No</td>\n",
              "      <td>No</td>\n",
              "      <td>0</td>\n",
              "      <td>NaN</td>\n",
              "      <td>NaN</td>\n",
              "      <td>12/29/2021</td>\n",
              "    </tr>\n",
              "    <tr>\n",
              "      <th>1</th>\n",
              "      <td>2020</td>\n",
              "      <td>2</td>\n",
              "      <td>27</td>\n",
              "      <td>F</td>\n",
              "      <td>13</td>\n",
              "      <td>150</td>\n",
              "      <td>65</td>\n",
              "      <td>81.0</td>\n",
              "      <td>0.8</td>\n",
              "      <td>0.8</td>\n",
              "      <td>...</td>\n",
              "      <td>0.5</td>\n",
              "      <td>18.0</td>\n",
              "      <td>15.0</td>\n",
              "      <td>15.0</td>\n",
              "      <td>No</td>\n",
              "      <td>No</td>\n",
              "      <td>0</td>\n",
              "      <td>NaN</td>\n",
              "      <td>NaN</td>\n",
              "      <td>12/29/2021</td>\n",
              "    </tr>\n",
              "    <tr>\n",
              "      <th>2</th>\n",
              "      <td>2020</td>\n",
              "      <td>3</td>\n",
              "      <td>11</td>\n",
              "      <td>F</td>\n",
              "      <td>12</td>\n",
              "      <td>155</td>\n",
              "      <td>55</td>\n",
              "      <td>70.0</td>\n",
              "      <td>0.6</td>\n",
              "      <td>0.7</td>\n",
              "      <td>...</td>\n",
              "      <td>0.7</td>\n",
              "      <td>27.0</td>\n",
              "      <td>25.0</td>\n",
              "      <td>7.0</td>\n",
              "      <td>No</td>\n",
              "      <td>No</td>\n",
              "      <td>0</td>\n",
              "      <td>NaN</td>\n",
              "      <td>NaN</td>\n",
              "      <td>12/29/2021</td>\n",
              "    </tr>\n",
              "    <tr>\n",
              "      <th>3</th>\n",
              "      <td>2020</td>\n",
              "      <td>4</td>\n",
              "      <td>31</td>\n",
              "      <td>M</td>\n",
              "      <td>13</td>\n",
              "      <td>160</td>\n",
              "      <td>70</td>\n",
              "      <td>90.8</td>\n",
              "      <td>1.0</td>\n",
              "      <td>1.0</td>\n",
              "      <td>...</td>\n",
              "      <td>1.2</td>\n",
              "      <td>65.0</td>\n",
              "      <td>97.0</td>\n",
              "      <td>72.0</td>\n",
              "      <td>No</td>\n",
              "      <td>No</td>\n",
              "      <td>1</td>\n",
              "      <td>0.0</td>\n",
              "      <td>0.0</td>\n",
              "      <td>12/29/2021</td>\n",
              "    </tr>\n",
              "    <tr>\n",
              "      <th>4</th>\n",
              "      <td>2020</td>\n",
              "      <td>5</td>\n",
              "      <td>41</td>\n",
              "      <td>F</td>\n",
              "      <td>12</td>\n",
              "      <td>155</td>\n",
              "      <td>50</td>\n",
              "      <td>75.2</td>\n",
              "      <td>1.5</td>\n",
              "      <td>1.2</td>\n",
              "      <td>...</td>\n",
              "      <td>0.7</td>\n",
              "      <td>18.0</td>\n",
              "      <td>17.0</td>\n",
              "      <td>14.0</td>\n",
              "      <td>No</td>\n",
              "      <td>No</td>\n",
              "      <td>0</td>\n",
              "      <td>NaN</td>\n",
              "      <td>NaN</td>\n",
              "      <td>12/29/2021</td>\n",
              "    </tr>\n",
              "  </tbody>\n",
              "</table>\n",
              "<p>5 rows × 31 columns</p>\n",
              "</div>\n",
              "      <button class=\"colab-df-convert\" onclick=\"convertToInteractive('df-c7cec8a5-711a-4cc2-91d7-9c8f29cad678')\"\n",
              "              title=\"Convert this dataframe to an interactive table.\"\n",
              "              style=\"display:none;\">\n",
              "        \n",
              "  <svg xmlns=\"http://www.w3.org/2000/svg\" height=\"24px\"viewBox=\"0 0 24 24\"\n",
              "       width=\"24px\">\n",
              "    <path d=\"M0 0h24v24H0V0z\" fill=\"none\"/>\n",
              "    <path d=\"M18.56 5.44l.94 2.06.94-2.06 2.06-.94-2.06-.94-.94-2.06-.94 2.06-2.06.94zm-11 1L8.5 8.5l.94-2.06 2.06-.94-2.06-.94L8.5 2.5l-.94 2.06-2.06.94zm10 10l.94 2.06.94-2.06 2.06-.94-2.06-.94-.94-2.06-.94 2.06-2.06.94z\"/><path d=\"M17.41 7.96l-1.37-1.37c-.4-.4-.92-.59-1.43-.59-.52 0-1.04.2-1.43.59L10.3 9.45l-7.72 7.72c-.78.78-.78 2.05 0 2.83L4 21.41c.39.39.9.59 1.41.59.51 0 1.02-.2 1.41-.59l7.78-7.78 2.81-2.81c.8-.78.8-2.07 0-2.86zM5.41 20L4 18.59l7.72-7.72 1.47 1.35L5.41 20z\"/>\n",
              "  </svg>\n",
              "      </button>\n",
              "      \n",
              "  <style>\n",
              "    .colab-df-container {\n",
              "      display:flex;\n",
              "      flex-wrap:wrap;\n",
              "      gap: 12px;\n",
              "    }\n",
              "\n",
              "    .colab-df-convert {\n",
              "      background-color: #E8F0FE;\n",
              "      border: none;\n",
              "      border-radius: 50%;\n",
              "      cursor: pointer;\n",
              "      display: none;\n",
              "      fill: #1967D2;\n",
              "      height: 32px;\n",
              "      padding: 0 0 0 0;\n",
              "      width: 32px;\n",
              "    }\n",
              "\n",
              "    .colab-df-convert:hover {\n",
              "      background-color: #E2EBFA;\n",
              "      box-shadow: 0px 1px 2px rgba(60, 64, 67, 0.3), 0px 1px 3px 1px rgba(60, 64, 67, 0.15);\n",
              "      fill: #174EA6;\n",
              "    }\n",
              "\n",
              "    [theme=dark] .colab-df-convert {\n",
              "      background-color: #3B4455;\n",
              "      fill: #D2E3FC;\n",
              "    }\n",
              "\n",
              "    [theme=dark] .colab-df-convert:hover {\n",
              "      background-color: #434B5C;\n",
              "      box-shadow: 0px 1px 3px 1px rgba(0, 0, 0, 0.15);\n",
              "      filter: drop-shadow(0px 1px 2px rgba(0, 0, 0, 0.3));\n",
              "      fill: #FFFFFF;\n",
              "    }\n",
              "  </style>\n",
              "\n",
              "      <script>\n",
              "        const buttonEl =\n",
              "          document.querySelector('#df-c7cec8a5-711a-4cc2-91d7-9c8f29cad678 button.colab-df-convert');\n",
              "        buttonEl.style.display =\n",
              "          google.colab.kernel.accessAllowed ? 'block' : 'none';\n",
              "\n",
              "        async function convertToInteractive(key) {\n",
              "          const element = document.querySelector('#df-c7cec8a5-711a-4cc2-91d7-9c8f29cad678');\n",
              "          const dataTable =\n",
              "            await google.colab.kernel.invokeFunction('convertToInteractive',\n",
              "                                                     [key], {});\n",
              "          if (!dataTable) return;\n",
              "\n",
              "          const docLinkHtml = 'Like what you see? Visit the ' +\n",
              "            '<a target=\"_blank\" href=https://colab.research.google.com/notebooks/data_table.ipynb>data table notebook</a>'\n",
              "            + ' to learn more about interactive tables.';\n",
              "          element.innerHTML = '';\n",
              "          dataTable['output_type'] = 'display_data';\n",
              "          await google.colab.output.renderOutput(dataTable, element);\n",
              "          const docLink = document.createElement('div');\n",
              "          docLink.innerHTML = docLinkHtml;\n",
              "          element.appendChild(docLink);\n",
              "        }\n",
              "      </script>\n",
              "    </div>\n",
              "  </div>\n",
              "  "
            ]
          },
          "metadata": {},
          "execution_count": 1
        }
      ],
      "source": [
        "import pandas as pd\n",
        "HD=pd.read_csv(\"https://raw.githubusercontent.com/iecsh10/IT_reno/main/health_data.csv\")\n",
        "HD.head()"
      ]
    },
    {
      "cell_type": "markdown",
      "source": [
        "**폰트가 깨지면 이 블럭을 실행하세요**\n"
      ],
      "metadata": {
        "id": "6M4C1o0egyhx"
      }
    },
    {
      "cell_type": "code",
      "source": [
        "##seaborn 폰트 깨짐 방지\n",
        "!sudo apt-get install -y fonts-nanum\n",
        "!sudo fc-cache -fv\n",
        "!rm ~/.cache/matplotlib -rf\n",
        "#런타임 다시시작\n",
        "import matplotlib.pyplot as plt\n",
        "plt.rc('font', family='NanumBarunGothic')"
      ],
      "metadata": {
        "colab": {
          "base_uri": "https://localhost:8080/"
        },
        "id": "Oj-ak4ZSv_rF",
        "outputId": "dcd2ef22-b45e-45d7-b59e-321b8c861816"
      },
      "execution_count": 2,
      "outputs": [
        {
          "output_type": "stream",
          "name": "stdout",
          "text": [
            "Reading package lists... Done\n",
            "Building dependency tree       \n",
            "Reading state information... Done\n",
            "fonts-nanum is already the newest version (20170925-1).\n",
            "The following package was automatically installed and is no longer required:\n",
            "  libnvidia-common-460\n",
            "Use 'sudo apt autoremove' to remove it.\n",
            "0 upgraded, 0 newly installed, 0 to remove and 29 not upgraded.\n",
            "/usr/share/fonts: caching, new cache contents: 0 fonts, 1 dirs\n",
            "/usr/share/fonts/truetype: caching, new cache contents: 0 fonts, 3 dirs\n",
            "/usr/share/fonts/truetype/humor-sans: caching, new cache contents: 1 fonts, 0 dirs\n",
            "/usr/share/fonts/truetype/liberation: caching, new cache contents: 16 fonts, 0 dirs\n",
            "/usr/share/fonts/truetype/nanum: caching, new cache contents: 10 fonts, 0 dirs\n",
            "/usr/local/share/fonts: caching, new cache contents: 0 fonts, 0 dirs\n",
            "/root/.local/share/fonts: skipping, no such directory\n",
            "/root/.fonts: skipping, no such directory\n",
            "/var/cache/fontconfig: cleaning cache directory\n",
            "/root/.cache/fontconfig: not cleaning non-existent cache directory\n",
            "/root/.fontconfig: not cleaning non-existent cache directory\n",
            "fc-cache: succeeded\n"
          ]
        }
      ]
    },
    {
      "cell_type": "markdown",
      "source": [
        "###1.나이에 따른 평균 경향 : 콜레스테롤, 혈색소, 공복혈당\n"
      ],
      "metadata": {
        "id": "A9YnEjx9h6gx"
      }
    },
    {
      "cell_type": "markdown",
      "source": [
        "**나이에 따른 총콜레스테롤 평균수치 경향**"
      ],
      "metadata": {
        "id": "_eh39k47hge6"
      }
    },
    {
      "cell_type": "code",
      "source": [
        "hd11=HD.groupby('연령대코드(5세단위)',as_index=False).agg(콜레스테롤평균=('총콜레스테롤','mean'))\n",
        "import seaborn as sns \n",
        "sns.lineplot(data=hd11,x='연령대코드(5세단위)',y='콜레스테롤평균').set(ylim=(150,220))\n"
      ],
      "metadata": {
        "colab": {
          "base_uri": "https://localhost:8080/",
          "height": 301
        },
        "id": "ylGb_-P82o0f",
        "outputId": "00d12092-2dea-485b-a561-80cd625acd6c"
      },
      "execution_count": 3,
      "outputs": [
        {
          "output_type": "execute_result",
          "data": {
            "text/plain": [
              "[(150.0, 220.0)]"
            ]
          },
          "metadata": {},
          "execution_count": 3
        },
        {
          "output_type": "display_data",
          "data": {
            "text/plain": [
              "<Figure size 432x288 with 1 Axes>"
            ],
            "image/png": "[encoded data removed]"
          },
          "metadata": {
            "needs_background": "light"
          }
        }
      ]
    },
    {
      "cell_type": "markdown",
      "source": [
        "연령이 증가할수록 대체로 콜레스테롤 수치가 낮다.\n",
        "\n",
        "총콜레스테롤 수치의 정상치는 150~250mg/dL이며\n",
        "보통 총 콜레스테롤 수치가 200mg/DL을 넘어가면 병원 진단이 권장된다. \n",
        "\n",
        "연령이 증가할수록 콜레스테롤 수치가 낮은 이유로는\n",
        "\n",
        "*   젊은 사람과 연로한 사람의 식습관의 차이\n",
        "*   콜레스테롤이 높을수록 빨리 죽어서 노년까지 살아남으신 분의 콜레스테롤이 낮다\n",
        "\n",
        "\n",
        "정도로 추측된다.\n"
      ],
      "metadata": {
        "id": "YCuKDN83h3Vn"
      }
    },
    {
      "cell_type": "markdown",
      "source": [
        "**나이에 따른 혈색소 평균수치 경향**"
      ],
      "metadata": {
        "id": "P-5SMt2chuNZ"
      }
    },
    {
      "cell_type": "code",
      "source": [
        "hd12=HD.groupby('연령대코드(5세단위)',as_index=False).agg(혈색소평균=('혈색소','mean'))\n",
        "import seaborn as sns \n",
        "sns.lineplot(data=hd12,x='연령대코드(5세단위)',y='혈색소평균').set(ylim=(12,15))"
      ],
      "metadata": {
        "colab": {
          "base_uri": "https://localhost:8080/",
          "height": 301
        },
        "id": "tJP_AdWk0Yb0",
        "outputId": "22506b8b-2b29-4b65-bca6-e82fe277a5ae"
      },
      "execution_count": 4,
      "outputs": [
        {
          "output_type": "execute_result",
          "data": {
            "text/plain": [
              "[(12.0, 15.0)]"
            ]
          },
          "metadata": {},
          "execution_count": 4
        },
        {
          "output_type": "display_data",
          "data": {
            "text/plain": [
              "<Figure size 432x288 with 1 Axes>"
            ],
            "image/png": "[encoded data removed]"
          },
          "metadata": {
            "needs_background": "light"
          }
        }
      ]
    },
    {
      "cell_type": "markdown",
      "source": [
        "연령이 증가할수록 대체로 혈색소 수치가 낮다\n",
        "\n",
        "혈색소는 혈중의 산소를 운반하며, \n",
        "\n",
        "혈색소수치가 낮을수록 빈혈이나 어지럼증을 겪을 수 있다. \n",
        "\n",
        "따라서 연로할수록 빈혈의심증세를 면밀히 살펴야 한다.\n",
        "\n"
      ],
      "metadata": {
        "id": "qBNNMWhijIXK"
      }
    },
    {
      "cell_type": "markdown",
      "source": [
        "**나이에 따른 공복혈당 평균수치 경향**"
      ],
      "metadata": {
        "id": "TmZvePeghypx"
      }
    },
    {
      "cell_type": "code",
      "source": [
        "hd13=HD.groupby('연령대코드(5세단위)',as_index=False).agg(공복혈당평균=('식전혈당(공복혈당)','mean'))\n",
        "import seaborn as sns \n",
        "sns.lineplot(data=hd13,x='연령대코드(5세단위)',y='공복혈당평균').set(ylim=(90,120))"
      ],
      "metadata": {
        "colab": {
          "base_uri": "https://localhost:8080/",
          "height": 301
        },
        "id": "rleXSyx41UHU",
        "outputId": "79ab9b59-6a36-4ccf-99c7-210b4656897d"
      },
      "execution_count": 5,
      "outputs": [
        {
          "output_type": "execute_result",
          "data": {
            "text/plain": [
              "[(90.0, 120.0)]"
            ]
          },
          "metadata": {},
          "execution_count": 5
        },
        {
          "output_type": "display_data",
          "data": {
            "text/plain": [
              "<Figure size 432x288 with 1 Axes>"
            ],
            "image/png": "[encoded data removed]"
          },
          "metadata": {
            "needs_background": "light"
          }
        }
      ]
    },
    {
      "cell_type": "markdown",
      "source": [
        "연령이 증가할수록 대체로 공복혈당 수치가 높다\n",
        "\n",
        "공복혈당이 126mg/DL 이상이면 당뇨병으로 판정하며, \n",
        "\n",
        "100~125mg/DL이면 당뇨 위험군으로 의심할 수 있다. \n",
        "\n",
        "연령대 17 그룹은 80~84세, 연령대 18 그룹은 85세 이상을 의미해 특수한 상황이므로 \n",
        "\n",
        "연령대 코드 17 이후의 선 그래프가 하락하고 있더라도\n",
        "\n",
        "연령증가에 따른 공복혈당 상승 경향성을 무시할 수 없다 "
      ],
      "metadata": {
        "id": "W8PRt6I_jrpx"
      }
    },
    {
      "cell_type": "markdown",
      "source": [
        "###2.성별에 따른 평균수치의 비교 : 콜레스테롤, 혈색소"
      ],
      "metadata": {
        "id": "gm0Q9gAih-Jd"
      }
    },
    {
      "cell_type": "markdown",
      "source": [
        "**성별에 따른 총콜레스테롤 수치의 차이**"
      ],
      "metadata": {
        "id": "irYD6glqlkF7"
      }
    },
    {
      "cell_type": "code",
      "source": [
        "hd2=HD.groupby('성별코드',as_index=False).agg(총콜레스테롤평균=('총콜레스테롤','mean'))\n",
        "import seaborn as sns \n",
        "sns.barplot(data=hd2,x='성별코드',y='총콜레스테롤평균').set(ylim=(175,210))"
      ],
      "metadata": {
        "colab": {
          "base_uri": "https://localhost:8080/",
          "height": 301
        },
        "id": "WZM_y5ZzBFNi",
        "outputId": "156702fe-c47c-4373-c02d-24f89245c08d"
      },
      "execution_count": 6,
      "outputs": [
        {
          "output_type": "execute_result",
          "data": {
            "text/plain": [
              "[(175.0, 210.0)]"
            ]
          },
          "metadata": {},
          "execution_count": 6
        },
        {
          "output_type": "display_data",
          "data": {
            "text/plain": [
              "<Figure size 432x288 with 1 Axes>"
            ],
            "image/png": "[encoded data removed]"
          },
          "metadata": {
            "needs_background": "light"
          }
        }
      ]
    },
    {
      "cell_type": "markdown",
      "source": [
        "성별에 따라 총콜레스테롤 평균에는 차이가 있다. \n",
        "\n",
        "여성의 총콜레스테롤 수치가 비교적 높다."
      ],
      "metadata": {
        "id": "9fuqQ3kpx1v1"
      }
    },
    {
      "cell_type": "code",
      "source": [
        "hd2=HD[['성별코드','총콜레스테롤']]\n",
        "hd1F=hd2[hd2['성별코드']==\"F\"]\n",
        "hd1M=hd2[hd2['성별코드']==\"M\"]\n",
        "#결측치제거\n",
        "hd1M=hd1M.dropna(axis=0)\n",
        "hd1F=hd1F.dropna(axis=0)\n",
        "hd1M=hd1M[['총콜레스테롤']]\n",
        "hd1F=hd1F[['총콜레스테롤']]\n",
        "\n",
        "import scipy.stats\n",
        "print(scipy.stats.ttest_ind(hd1M,hd1F,equal_var=True))\n",
        "print(scipy.stats.ttest_ind(hd1M,hd1F,equal_var=False))\n",
        "\n",
        "#정규성 ; 표본이 많으니까 정규분포를 따른다고 가정 가능\n",
        "#등분산성 :레베네 등분산 test를 해야하는데 코드가 잘 안돌아가서\n",
        "#등분산과 이분산을 모두 가정해 돌려보기로 함\n",
        "\n",
        "#p-value:0.000000366으로 5%유의확률에서\n",
        "#두 집단은 충분이 차이가 남 "
      ],
      "metadata": {
        "colab": {
          "base_uri": "https://localhost:8080/"
        },
        "id": "H0syQhPDV3ra",
        "outputId": "052622b7-4a34-4eba-f402-ead46ef788b6"
      },
      "execution_count": 7,
      "outputs": [
        {
          "output_type": "stream",
          "name": "stdout",
          "text": [
            "Ttest_indResult(statistic=array([-5.09398743]), pvalue=array([3.66609e-07]))\n",
            "Ttest_indResult(statistic=array([-5.09398968]), pvalue=array([3.66604899e-07]))\n"
          ]
        }
      ]
    },
    {
      "cell_type": "markdown",
      "source": [
        "그래프 뿐만 아니라 통계적으로도 그 차이가 유의한지 t-검정을 통해 확인했다.\n",
        "\n",
        "t통계량의 p-value가 0.05이하이므로 \n",
        "5%유의수준에서 두 그룹의 차이는 충분히 유의하다\n",
        "\n",
        "따라서 성별에 따라 총콜레스테롤 수치가 다르다는 판단은 타당하다. "
      ],
      "metadata": {
        "id": "VPFzIny4yKm6"
      }
    },
    {
      "cell_type": "markdown",
      "source": [
        "**성별에 따른 혈색소 수치의 차이**"
      ],
      "metadata": {
        "id": "_mjDWwfblpSn"
      }
    },
    {
      "cell_type": "code",
      "source": [
        "import pandas as pd\n",
        "HD=pd.read_csv(\"https://raw.githubusercontent.com/iecsh10/IT_reno/main/health_data.csv\")\n",
        "\n",
        "#바 플롯\n",
        "hd2=HD.groupby('성별코드',as_index=False).agg(혈색소평균=('혈색소','mean'))\n",
        "import seaborn as sns \n",
        "sns.barplot(data=hd2,x='성별코드',y='혈색소평균').set(ylim=(10,16))"
      ],
      "metadata": {
        "colab": {
          "base_uri": "https://localhost:8080/",
          "height": 301
        },
        "id": "UjwjCyQYOFFQ",
        "outputId": "d3dbc9d8-045b-49b4-a098-1de29450b600"
      },
      "execution_count": 8,
      "outputs": [
        {
          "output_type": "execute_result",
          "data": {
            "text/plain": [
              "[(10.0, 16.0)]"
            ]
          },
          "metadata": {},
          "execution_count": 8
        },
        {
          "output_type": "display_data",
          "data": {
            "text/plain": [
              "<Figure size 432x288 with 1 Axes>"
            ],
            "image/png": "[encoded data removed]"
          },
          "metadata": {
            "needs_background": "light"
          }
        }
      ]
    },
    {
      "cell_type": "markdown",
      "source": [
        "성별에 따라 혈색소 수치에는 차이가 있으며\n",
        "\n",
        "남성의 혈색소 수치가 더욱 높다.\n",
        "\n",
        "여성이 겪는 빈혈이나 월경이 혈색소 수치에 영향을 주고 있다는 직감이 들지만\n",
        "\n",
        "정확하게 알려면 또 다른 자료와 분석이 필요하다. "
      ],
      "metadata": {
        "id": "-sl_P2kBy_st"
      }
    },
    {
      "cell_type": "code",
      "source": [
        "hd2=HD[['성별코드','혈색소']]\n",
        "hd1F=hd2[hd2['성별코드']==\"F\"]\n",
        "hd1M=hd2[hd2['성별코드']==\"M\"]\n",
        "#결측치제거\n",
        "hd1M=hd1M.dropna(axis=0)\n",
        "hd1F=hd1F.dropna(axis=0)\n",
        "hd1M=hd1M[['혈색소']]\n",
        "hd1F=hd1F[['혈색소']]\n",
        "\n",
        "import scipy.stats\n",
        "print(scipy.stats.ttest_ind(hd1M,hd1F,equal_var=True))\n",
        "print(scipy.stats.ttest_ind(hd1M,hd1F,equal_var=False))\n",
        "\n",
        "#정규성 ; 표본이 많으니까 정규분포를 따른다고 가정 가능\n",
        "#등분산성 :레베네 등분산 test를 해야하는데 코드가 잘 안돌아가서\n",
        "#등분산과 이분산을 모두 가정해 돌려보기로 함\n",
        "\n",
        "#등분산과 이분산인 경우 모두 p-value<0.05로\n",
        "#5%유의수준에서 귀무가설 기각\n",
        "#두 집단의 차이가 유의\n"
      ],
      "metadata": {
        "colab": {
          "base_uri": "https://localhost:8080/"
        },
        "id": "50smwd3Eekvv",
        "outputId": "7a382e86-4c72-4c39-8fd5-abff70bd6b81"
      },
      "execution_count": 9,
      "outputs": [
        {
          "output_type": "stream",
          "name": "stdout",
          "text": [
            "Ttest_indResult(statistic=array([77.37271979]), pvalue=array([0.]))\n",
            "Ttest_indResult(statistic=array([77.49383056]), pvalue=array([0.]))\n"
          ]
        }
      ]
    },
    {
      "cell_type": "markdown",
      "source": [
        "그래프 뿐만 아니라 통계적으로도 그 차이가 유의한지 t-검정을 통해 확인했다.\n",
        "\n",
        "t통계량의 p-value가 0.05이하이므로 \n",
        "5%유의수준에서 두 그룹의 차이는 충분히 유의하다\n",
        "\n",
        "따라서 성별에 따라 혈색소 수치가 다르다는 판단은 타당하다. "
      ],
      "metadata": {
        "id": "QQLWQX2xzY0V"
      }
    },
    {
      "cell_type": "markdown",
      "source": [
        "###3.데이터끼리의 관계 : 총콜레스테롤과 LDL콜레스테롤"
      ],
      "metadata": {
        "id": "d3AE-_Tnh8og"
      }
    },
    {
      "cell_type": "markdown",
      "source": [
        "**cf)산점도 위 적합선을 그리기 위한 회귀식 계산**"
      ],
      "metadata": {
        "id": "zl1Yw5VRzqWW"
      }
    },
    {
      "cell_type": "code",
      "source": [
        "#연속형변수에 대해 회귀분석\n",
        "#자료 둘러보기 및 적합선에 사용할 회귀식 구하기 위함\n",
        "#그냥 회귀계수 유의성과 부호만 보고 적합선 그리는데 참고용\n",
        "\n",
        "#lm(총콜레스테롤~LDL콜레스테롤,data=HD)\n",
        "hd3=HD[['총콜레스테롤','LDL콜레스테롤']]\n",
        "hd3=hd3.dropna(axis=0) #결측치 제거\n",
        "from statsmodels.formula.api import ols\n",
        "fit1 = ols('총콜레스테롤 ~ LDL콜레스테롤', data=hd3).fit()\n",
        "print(fit1.summary())\n",
        "\n",
        "#lm(총콜레스테롤~HDL콜레스테롤,data=HD)\n",
        "hd4=HD[['총콜레스테롤','HDL콜레스테롤']]\n",
        "hd4=hd4.dropna(axis=0) #결측치 제거\n",
        "fit2 = ols('총콜레스테롤 ~ HDL콜레스테롤', data=hd4).fit()\n",
        "print(fit2.summary())\n",
        "\n",
        "#lm(총콜레스테롤~HDL콜레스테롤+LDL콜레스테롤,data=HD)\n",
        "hd5=HD[['총콜레스테롤','HDL콜레스테롤','LDL콜레스테롤']]\n",
        "hd5=hd5.dropna(axis=0) #결측치 제거\n",
        "fit3 = ols('총콜레스테롤 ~ HDL콜레스테롤+LDL콜레스테롤', data=hd5).fit()\n",
        "print(fit3.summary())\n"
      ],
      "metadata": {
        "colab": {
          "base_uri": "https://localhost:8080/"
        },
        "id": "IB99xJTj_ulq",
        "outputId": "430b598d-6a4b-4de3-9b4f-fadd23dd9128"
      },
      "execution_count": 10,
      "outputs": [
        {
          "output_type": "stream",
          "name": "stdout",
          "text": [
            "                            OLS Regression Results                            \n",
            "==============================================================================\n",
            "Dep. Variable:                 총콜레스테롤   R-squared:                       0.864\n",
            "Model:                            OLS   Adj. R-squared:                  0.864\n",
            "Method:                 Least Squares   F-statistic:                 2.527e+04\n",
            "Date:                Sun, 30 Oct 2022   Prob (F-statistic):               0.00\n",
            "Time:                        17:42:24   Log-Likelihood:                -16521.\n",
            "No. Observations:                3977   AIC:                         3.305e+04\n",
            "Df Residuals:                    3975   BIC:                         3.306e+04\n",
            "Df Model:                           1                                         \n",
            "Covariance Type:            nonrobust                                         \n",
            "==============================================================================\n",
            "                 coef    std err          t      P>|t|      [0.025      0.975]\n",
            "------------------------------------------------------------------------------\n",
            "Intercept     78.3331      0.790     99.125      0.000      76.784      79.882\n",
            "LDL콜레스테롤       1.0275      0.006    158.970      0.000       1.015       1.040\n",
            "==============================================================================\n",
            "Omnibus:                      321.615   Durbin-Watson:                   1.954\n",
            "Prob(Omnibus):                  0.000   Jarque-Bera (JB):              613.276\n",
            "Skew:                           0.557   Prob(JB):                    6.74e-134\n",
            "Kurtosis:                       4.569   Cond. No.                         395.\n",
            "==============================================================================\n",
            "\n",
            "Notes:\n",
            "[1] Standard Errors assume that the covariance matrix of the errors is correctly specified.\n",
            "                            OLS Regression Results                            \n",
            "==============================================================================\n",
            "Dep. Variable:                 총콜레스테롤   R-squared:                       0.055\n",
            "Model:                            OLS   Adj. R-squared:                  0.055\n",
            "Method:                 Least Squares   F-statistic:                     236.6\n",
            "Date:                Sun, 30 Oct 2022   Prob (F-statistic):           6.13e-52\n",
            "Time:                        17:42:24   Log-Likelihood:                -20733.\n",
            "No. Observations:                4044   AIC:                         4.147e+04\n",
            "Df Residuals:                    4042   BIC:                         4.148e+04\n",
            "Df Model:                           1                                         \n",
            "Covariance Type:            nonrobust                                         \n",
            "==============================================================================\n",
            "                 coef    std err          t      P>|t|      [0.025      0.975]\n",
            "------------------------------------------------------------------------------\n",
            "Intercept    160.0232      2.568     62.325      0.000     154.989     165.057\n",
            "HDL콜레스테롤       0.6810      0.044     15.383      0.000       0.594       0.768\n",
            "==============================================================================\n",
            "Omnibus:                       91.142   Durbin-Watson:                   2.039\n",
            "Prob(Omnibus):                  0.000   Jarque-Bera (JB):               97.933\n",
            "Skew:                           0.358   Prob(JB):                     5.42e-22\n",
            "Kurtosis:                       3.263   Cond. No.                         232.\n",
            "==============================================================================\n",
            "\n",
            "Notes:\n",
            "[1] Standard Errors assume that the covariance matrix of the errors is correctly specified.\n",
            "                            OLS Regression Results                            \n",
            "==============================================================================\n",
            "Dep. Variable:                 총콜레스테롤   R-squared:                       0.911\n",
            "Model:                            OLS   Adj. R-squared:                  0.911\n",
            "Method:                 Least Squares   F-statistic:                 2.034e+04\n",
            "Date:                Sun, 30 Oct 2022   Prob (F-statistic):               0.00\n",
            "Time:                        17:42:24   Log-Likelihood:                -15679.\n",
            "No. Observations:                3977   AIC:                         3.136e+04\n",
            "Df Residuals:                    3974   BIC:                         3.138e+04\n",
            "Df Model:                           2                                         \n",
            "Covariance Type:            nonrobust                                         \n",
            "==============================================================================\n",
            "                 coef    std err          t      P>|t|      [0.025      0.975]\n",
            "------------------------------------------------------------------------------\n",
            "Intercept     43.9570      0.986     44.571      0.000      42.023      45.891\n",
            "HDL콜레스테롤       0.6280      0.014     45.786      0.000       0.601       0.655\n",
            "LDL콜레스테롤       1.0186      0.005    194.608      0.000       1.008       1.029\n",
            "==============================================================================\n",
            "Omnibus:                      847.878   Durbin-Watson:                   1.995\n",
            "Prob(Omnibus):                  0.000   Jarque-Bera (JB):             2745.813\n",
            "Skew:                           1.069   Prob(JB):                         0.00\n",
            "Kurtosis:                       6.464   Cond. No.                         667.\n",
            "==============================================================================\n",
            "\n",
            "Notes:\n",
            "[1] Standard Errors assume that the covariance matrix of the errors is correctly specified.\n"
          ]
        }
      ]
    },
    {
      "cell_type": "markdown",
      "source": [
        "\n",
        "오차의 정규성 (Jarque-Bera)의 p-value<0.05 => 충분히 지켜짐\n",
        "\n",
        "오차의 독립성 : 더빈왓슨 값이 2 언저리 => 충분히 지켜짐\n",
        "\n",
        "오차의 등분산성 : 잔차산점도로 확인 필요\n",
        "\n",
        "\n",
        "*   x=LDL콜레스테롤,y=총콜레스테롤인 경우\n",
        "    \n",
        "    회귀계수 1.0275 (p-value<0.05)  설명력 0.864\n",
        "*   x=HDL콜레스테롤,y=총콜레스테롤인 경우\n",
        "\n",
        "    회귀계수 0.6810 (p-value<0.05), 설명력 0.055 #낮음\n",
        "*   x_1=HDL콜레스테롤,x_2=LDL콜레스테롤,y=총콜레스테롤인 경우\n",
        "\n",
        "    HDL콜레스테롤 회귀계수 = 0.628,LDL콜레스테롤 회귀계수 = 1.0186, 설명력 0.911\n",
        "\n",
        "    HDL콜레스테롤과 LDL콜레스테롤 모두 총콜레스테롤에 양의 방향으로 영향을 주지만\n",
        "\n",
        "    총콜레스테롤에 가장많이 영향을 주는 요소는 LDL콜레스테롤이다. \n"
      ],
      "metadata": {
        "id": "5dOOtuZTz1y5"
      }
    },
    {
      "cell_type": "markdown",
      "source": [
        "**LDL콜레스테롤과 총콜레스테롤의 산점도**"
      ],
      "metadata": {
        "id": "WPVVw-3M3ixN"
      }
    },
    {
      "cell_type": "code",
      "source": [
        "from matplotlib import pyplot as plt\n",
        "plt.scatter(hd3['LDL콜레스테롤'],hd3['총콜레스테롤'])\n",
        "plt.plot(hd3['LDL콜레스테롤'],fit1.fittedvalues,color='red')\n",
        "plt.xlabel('LDL콜레스테롤');plt.ylabel('총콜레스테롤')"
      ],
      "metadata": {
        "colab": {
          "base_uri": "https://localhost:8080/",
          "height": 299
        },
        "id": "we_IebZn7Zs8",
        "outputId": "bd136a01-5039-42c3-b3f7-9d25dda0b953"
      },
      "execution_count": 11,
      "outputs": [
        {
          "output_type": "execute_result",
          "data": {
            "text/plain": [
              "Text(0, 0.5, '총콜레스테롤')"
            ]
          },
          "metadata": {},
          "execution_count": 11
        },
        {
          "output_type": "display_data",
          "data": {
            "text/plain": [
              "<Figure size 432x288 with 1 Axes>"
            ],
            "image/png": "[encoded data removed]"
          },
          "metadata": {
            "needs_background": "light"
          }
        }
      ]
    },
    {
      "cell_type": "markdown",
      "source": [
        "x, y변수가 선형관계를 이루고 있다. \n",
        "\n",
        "\n",
        "LDL콜레스테롤이 높을 수록 총콜레스테롤이 높다\n",
        "\n",
        "LDL콜레스테롤은 동맥경화와 심장병을 유발하는 '나쁜 콜레스테롤'이라는 별명으로 불린다고 한다."
      ],
      "metadata": {
        "id": "JFg5_8O_32-B"
      }
    },
    {
      "cell_type": "markdown",
      "source": [
        "**HDL콜레스테롤과 총콜레스테롤의 산점도**"
      ],
      "metadata": {
        "id": "SQOuOpE23pFp"
      }
    },
    {
      "cell_type": "code",
      "source": [
        "from matplotlib import pyplot as plt\n",
        "plt.scatter(hd4['HDL콜레스테롤'],hd4['총콜레스테롤'])\n",
        "plt.plot(hd4['HDL콜레스테롤'],fit2.fittedvalues,color='red')\n",
        "plt.xlabel('HDL콜레스테롤');plt.ylabel('총콜레스테롤')"
      ],
      "metadata": {
        "colab": {
          "base_uri": "https://localhost:8080/",
          "height": 299
        },
        "id": "FNuyKd5k9H81",
        "outputId": "910cf27b-1bae-4b83-abdf-f45457719e38"
      },
      "execution_count": 12,
      "outputs": [
        {
          "output_type": "execute_result",
          "data": {
            "text/plain": [
              "Text(0, 0.5, '총콜레스테롤')"
            ]
          },
          "metadata": {},
          "execution_count": 12
        },
        {
          "output_type": "display_data",
          "data": {
            "text/plain": [
              "<Figure size 432x288 with 1 Axes>"
            ],
            "image/png": "[encoded data removed]"
          },
          "metadata": {
            "needs_background": "light"
          }
        }
      ]
    },
    {
      "cell_type": "markdown",
      "source": [
        "앞선 회귀분석의 설명력이 낮았는데, 산점도를 그려보니 역시 점이 일렬이기보다는 퍼져있는 형태이다. \n",
        "\n",
        "HDL콜레스테롤과 총콜레스테롤은 어느정도 양의 상관관계가 있다.\n",
        "\n",
        "HDL콜레스테롤은 혈액의 콜레스테롤을 운반해 간으로 이동시키며 동맥경화의 위험을 낮추어준다\n"
      ],
      "metadata": {
        "id": "vZQthe6H4Xoq"
      }
    }
  ]
}