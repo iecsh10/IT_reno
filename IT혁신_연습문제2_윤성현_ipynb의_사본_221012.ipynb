{
  "nbformat": 4,
  "nbformat_minor": 0,
  "metadata": {
    "colab": {
      "provenance": [],
      "collapsed_sections": []
    },
    "kernelspec": {
      "name": "python3",
      "display_name": "Python 3"
    },
    "language_info": {
      "name": "python"
    }
  },
  "cells": [
    {
      "cell_type": "markdown",
      "source": [
        "## 연습문제"
      ],
      "metadata": {
        "id": "wrQ4FuIT3zHK"
      }
    },
    {
      "cell_type": "markdown",
      "source": [
        "### **연습1: Chipotle 주문 데이터 이용**\n",
        "(1)  가장 잘 팔리지 않은 (주문량이 가장 적은) 메뉴 10개를 보여 주세요. \n",
        "\n",
        "(2)  가격이 가장 저렴한 메뉴 5개를 보여주세요. \n"
      ],
      "metadata": {
        "id": "3loTRrQm3t9v"
      }
    },
    {
      "cell_type": "code",
      "source": [
        "# 연습: Chipotle 주문 데이터 이용\n",
        "\n",
        "#데이터 불러오기\n",
        "import pandas as pd\n",
        "fpath = 'https://raw.githubusercontent.com/ykjoy/mining/main/chipotle.csv'\n",
        "df = pd.read_csv(fpath)"
      ],
      "metadata": {
        "id": "9GHD0b6h36ff"
      },
      "execution_count": null,
      "outputs": []
    },
    {
      "cell_type": "code",
      "source": [
        "#(1)주문량이 가장 적은 메뉴\n",
        "\n",
        "df.info() #데이터의 열 요소 확인\n",
        "#주문량은 2번째 열 (1번) quantity\n",
        "df\n",
        "#df를 확인해보니, 주문 수량이 한 건인 경우가 너무 많다 \n",
        "#특정메뉴의 주문량을 산출하려면 item_name이 같은 것을 묶어 길이를 구하거나, 건 수를 세면 될 것 같다.\n",
        "\n",
        "menusum = df.groupby('item_name').sum()\n",
        "#print(menusum)을 실행해 메뉴의 목록을 볼 수 있다.\n",
        "#order_id의 sum은 의미없으니 제거한다 \n",
        "menusum=menusum[['quantity']] \n",
        "#print(menusum) #출력하면 길어져서 주석처리했다.\n",
        "\n",
        "#menusum의 quanitiy를 오름차순으로 정렬해 주문량이 가장 적은 메뉴 10건을 출력해보자\n",
        "menusum.sort_values('quantity', ascending = True).head(10)  \n",
        "\n"
      ],
      "metadata": {
        "colab": {
          "base_uri": "https://localhost:8080/",
          "height": 1000
        },
        "id": "S1xMhmSsZ-xA",
        "outputId": "a35c5774-2e39-4788-fcc7-66d4c3af2442"
      },
      "execution_count": null,
      "outputs": [
        {
          "output_type": "stream",
          "name": "stdout",
          "text": [
            "<class 'pandas.core.frame.DataFrame'>\n",
            "RangeIndex: 4622 entries, 0 to 4621\n",
            "Data columns (total 5 columns):\n",
            " #   Column              Non-Null Count  Dtype \n",
            "---  ------              --------------  ----- \n",
            " 0   order_id            4622 non-null   int64 \n",
            " 1   quantity            4622 non-null   int64 \n",
            " 2   item_name           4622 non-null   object\n",
            " 3   choice_description  3376 non-null   object\n",
            " 4   item_price          4622 non-null   object\n",
            "dtypes: int64(2), object(3)\n",
            "memory usage: 180.7+ KB\n",
            "                                       quantity\n",
            "item_name                                      \n",
            "6 Pack Soft Drink                            55\n",
            "Barbacoa Bowl                                66\n",
            "Barbacoa Burrito                             91\n",
            "Barbacoa Crispy Tacos                        12\n",
            "Barbacoa Salad Bowl                          10\n",
            "Barbacoa Soft Tacos                          25\n",
            "Bottled Water                               211\n",
            "Bowl                                          4\n",
            "Burrito                                       6\n",
            "Canned Soda                                 126\n",
            "Canned Soft Drink                           351\n",
            "Carnitas Bowl                                71\n",
            "Carnitas Burrito                             60\n",
            "Carnitas Crispy Tacos                         8\n",
            "Carnitas Salad                                1\n",
            "Carnitas Salad Bowl                           6\n",
            "Carnitas Soft Tacos                          40\n",
            "Chicken Bowl                                761\n",
            "Chicken Burrito                             591\n",
            "Chicken Crispy Tacos                         50\n",
            "Chicken Salad                                 9\n",
            "Chicken Salad Bowl                          123\n",
            "Chicken Soft Tacos                          120\n",
            "Chips                                       230\n",
            "Chips and Fresh Tomato Salsa                130\n",
            "Chips and Guacamole                         506\n",
            "Chips and Mild Fresh Tomato Salsa             1\n",
            "Chips and Roasted Chili Corn Salsa           23\n",
            "Chips and Roasted Chili-Corn Salsa           18\n",
            "Chips and Tomatillo Green Chili Salsa        45\n",
            "Chips and Tomatillo Red Chili Salsa          50\n",
            "Chips and Tomatillo-Green Chili Salsa        33\n",
            "Chips and Tomatillo-Red Chili Salsa          25\n",
            "Crispy Tacos                                  2\n",
            "Izze                                         20\n",
            "Nantucket Nectar                             29\n",
            "Salad                                         2\n",
            "Side of Chips                               110\n",
            "Steak Bowl                                  221\n",
            "Steak Burrito                               386\n",
            "Steak Crispy Tacos                           36\n",
            "Steak Salad                                   4\n",
            "Steak Salad Bowl                             31\n",
            "Steak Soft Tacos                             56\n",
            "Veggie Bowl                                  87\n",
            "Veggie Burrito                               97\n",
            "Veggie Crispy Tacos                           1\n",
            "Veggie Salad                                  6\n",
            "Veggie Salad Bowl                            18\n",
            "Veggie Soft Tacos                             8\n"
          ]
        },
        {
          "output_type": "execute_result",
          "data": {
            "text/plain": [
              "                                   quantity\n",
              "item_name                                  \n",
              "Carnitas Salad                            1\n",
              "Veggie Crispy Tacos                       1\n",
              "Chips and Mild Fresh Tomato Salsa         1\n",
              "Crispy Tacos                              2\n",
              "Salad                                     2\n",
              "Bowl                                      4\n",
              "Steak Salad                               4\n",
              "Veggie Salad                              6\n",
              "Carnitas Salad Bowl                       6\n",
              "Burrito                                   6"
            ],
            "text/html": [
              "\n",
              "  <div id=\"df-1258cafc-cadc-41c3-a80b-d59a1d53851c\">\n",
              "    <div class=\"colab-df-container\">\n",
              "      <div>\n",
              "<style scoped>\n",
              "    .dataframe tbody tr th:only-of-type {\n",
              "        vertical-align: middle;\n",
              "    }\n",
              "\n",
              "    .dataframe tbody tr th {\n",
              "        vertical-align: top;\n",
              "    }\n",
              "\n",
              "    .dataframe thead th {\n",
              "        text-align: right;\n",
              "    }\n",
              "</style>\n",
              "<table border=\"1\" class=\"dataframe\">\n",
              "  <thead>\n",
              "    <tr style=\"text-align: right;\">\n",
              "      <th></th>\n",
              "      <th>quantity</th>\n",
              "    </tr>\n",
              "    <tr>\n",
              "      <th>item_name</th>\n",
              "      <th></th>\n",
              "    </tr>\n",
              "  </thead>\n",
              "  <tbody>\n",
              "    <tr>\n",
              "      <th>Carnitas Salad</th>\n",
              "      <td>1</td>\n",
              "    </tr>\n",
              "    <tr>\n",
              "      <th>Veggie Crispy Tacos</th>\n",
              "      <td>1</td>\n",
              "    </tr>\n",
              "    <tr>\n",
              "      <th>Chips and Mild Fresh Tomato Salsa</th>\n",
              "      <td>1</td>\n",
              "    </tr>\n",
              "    <tr>\n",
              "      <th>Crispy Tacos</th>\n",
              "      <td>2</td>\n",
              "    </tr>\n",
              "    <tr>\n",
              "      <th>Salad</th>\n",
              "      <td>2</td>\n",
              "    </tr>\n",
              "    <tr>\n",
              "      <th>Bowl</th>\n",
              "      <td>4</td>\n",
              "    </tr>\n",
              "    <tr>\n",
              "      <th>Steak Salad</th>\n",
              "      <td>4</td>\n",
              "    </tr>\n",
              "    <tr>\n",
              "      <th>Veggie Salad</th>\n",
              "      <td>6</td>\n",
              "    </tr>\n",
              "    <tr>\n",
              "      <th>Carnitas Salad Bowl</th>\n",
              "      <td>6</td>\n",
              "    </tr>\n",
              "    <tr>\n",
              "      <th>Burrito</th>\n",
              "      <td>6</td>\n",
              "    </tr>\n",
              "  </tbody>\n",
              "</table>\n",
              "</div>\n",
              "      <button class=\"colab-df-convert\" onclick=\"convertToInteractive('df-1258cafc-cadc-41c3-a80b-d59a1d53851c')\"\n",
              "              title=\"Convert this dataframe to an interactive table.\"\n",
              "              style=\"display:none;\">\n",
              "        \n",
              "  <svg xmlns=\"http://www.w3.org/2000/svg\" height=\"24px\"viewBox=\"0 0 24 24\"\n",
              "       width=\"24px\">\n",
              "    <path d=\"M0 0h24v24H0V0z\" fill=\"none\"/>\n",
              "    <path d=\"M18.56 5.44l.94 2.06.94-2.06 2.06-.94-2.06-.94-.94-2.06-.94 2.06-2.06.94zm-11 1L8.5 8.5l.94-2.06 2.06-.94-2.06-.94L8.5 2.5l-.94 2.06-2.06.94zm10 10l.94 2.06.94-2.06 2.06-.94-2.06-.94-.94-2.06-.94 2.06-2.06.94z\"/><path d=\"M17.41 7.96l-1.37-1.37c-.4-.4-.92-.59-1.43-.59-.52 0-1.04.2-1.43.59L10.3 9.45l-7.72 7.72c-.78.78-.78 2.05 0 2.83L4 21.41c.39.39.9.59 1.41.59.51 0 1.02-.2 1.41-.59l7.78-7.78 2.81-2.81c.8-.78.8-2.07 0-2.86zM5.41 20L4 18.59l7.72-7.72 1.47 1.35L5.41 20z\"/>\n",
              "  </svg>\n",
              "      </button>\n",
              "      \n",
              "  <style>\n",
              "    .colab-df-container {\n",
              "      display:flex;\n",
              "      flex-wrap:wrap;\n",
              "      gap: 12px;\n",
              "    }\n",
              "\n",
              "    .colab-df-convert {\n",
              "      background-color: #E8F0FE;\n",
              "      border: none;\n",
              "      border-radius: 50%;\n",
              "      cursor: pointer;\n",
              "      display: none;\n",
              "      fill: #1967D2;\n",
              "      height: 32px;\n",
              "      padding: 0 0 0 0;\n",
              "      width: 32px;\n",
              "    }\n",
              "\n",
              "    .colab-df-convert:hover {\n",
              "      background-color: #E2EBFA;\n",
              "      box-shadow: 0px 1px 2px rgba(60, 64, 67, 0.3), 0px 1px 3px 1px rgba(60, 64, 67, 0.15);\n",
              "      fill: #174EA6;\n",
              "    }\n",
              "\n",
              "    [theme=dark] .colab-df-convert {\n",
              "      background-color: #3B4455;\n",
              "      fill: #D2E3FC;\n",
              "    }\n",
              "\n",
              "    [theme=dark] .colab-df-convert:hover {\n",
              "      background-color: #434B5C;\n",
              "      box-shadow: 0px 1px 3px 1px rgba(0, 0, 0, 0.15);\n",
              "      filter: drop-shadow(0px 1px 2px rgba(0, 0, 0, 0.3));\n",
              "      fill: #FFFFFF;\n",
              "    }\n",
              "  </style>\n",
              "\n",
              "      <script>\n",
              "        const buttonEl =\n",
              "          document.querySelector('#df-1258cafc-cadc-41c3-a80b-d59a1d53851c button.colab-df-convert');\n",
              "        buttonEl.style.display =\n",
              "          google.colab.kernel.accessAllowed ? 'block' : 'none';\n",
              "\n",
              "        async function convertToInteractive(key) {\n",
              "          const element = document.querySelector('#df-1258cafc-cadc-41c3-a80b-d59a1d53851c');\n",
              "          const dataTable =\n",
              "            await google.colab.kernel.invokeFunction('convertToInteractive',\n",
              "                                                     [key], {});\n",
              "          if (!dataTable) return;\n",
              "\n",
              "          const docLinkHtml = 'Like what you see? Visit the ' +\n",
              "            '<a target=\"_blank\" href=https://colab.research.google.com/notebooks/data_table.ipynb>data table notebook</a>'\n",
              "            + ' to learn more about interactive tables.';\n",
              "          element.innerHTML = '';\n",
              "          dataTable['output_type'] = 'display_data';\n",
              "          await google.colab.output.renderOutput(dataTable, element);\n",
              "          const docLink = document.createElement('div');\n",
              "          docLink.innerHTML = docLinkHtml;\n",
              "          element.appendChild(docLink);\n",
              "        }\n",
              "      </script>\n",
              "    </div>\n",
              "  </div>\n",
              "  "
            ]
          },
          "metadata": {},
          "execution_count": 105
        }
      ]
    },
    {
      "cell_type": "code",
      "source": [
        "#(2)가격이 가장 저렴한 메뉴\n",
        "print(df.head(10))\n",
        "#정확한 메뉴구성을 알수는 없지만, 선택옵션에 따른 추가금액은 없어보인다\n",
        "#일단 가격이 적은 순서대로 정렬해보기로 한다\n",
        "\n",
        "print(\"\\n-------------\\n메뉴기준 sum\\n-------------\")\n",
        "print( df.groupby('item_name').sum().head())\n",
        "#이 때, 가격정보는 숫자형이 아니어서 그 결과가 나오지 않는다.\n",
        "#df에서 가격 열을 빼서 숫자형으로 만들고 다시 df에 넣어준다\n",
        "df2=df[\"item_price\"].str[1:]  \n",
        "df2=pd.to_numeric(df2)\n",
        "df2=pd.concat([df,df2],axis=1)\n",
        "\n",
        "\n",
        "menusum2=df2.groupby('item_name').sum()\n",
        "print(\"\\n-----------------------\\n메뉴기준 sum (가격추가)\\n-----------------------\")\n",
        "print(df2.groupby('item_name').sum().head())\n",
        "menusum2.sort_values('item_price', ascending = True).head(10)  \n",
        "#이 때 각 메뉴의 가격은 (가격의 총합)/(총 추문건수)이므로\n",
        "#데이터프레임 menusum2에다가 apply를 적용해야할 것 같다\n",
        "menusum2['real_price']=menusum2.apply(lambda x : x[\"item_price\"]/x[\"quantity\"],axis=1)\n",
        "\n",
        "\n",
        "#저렴한 메뉴 5건\n",
        "print(\"\\n----------------\\n저렴한 메뉴 5건\")\n",
        "print(\"-----------------------\\n메뉴기준 sum (가격/건수)\\n        (오름차순 정렬)(단위:$)\\n-----------------------------\")\n",
        "menusum3=menusum2.sort_values('real_price', ascending = True).head()\n",
        "menusum3=menusum3[[\"real_price\"]]\n",
        "print(menusum3.sort_values('real_price', ascending = True).head())\n"
      ],
      "metadata": {
        "colab": {
          "base_uri": "https://localhost:8080/"
        },
        "id": "rGZJGV1zZ-oM",
        "outputId": "3eab7212-faca-471d-895f-c641757442b5"
      },
      "execution_count": null,
      "outputs": [
        {
          "output_type": "stream",
          "name": "stdout",
          "text": [
            "   order_id  quantity                              item_name  \\\n",
            "0         1         1           Chips and Fresh Tomato Salsa   \n",
            "1         1         1                                   Izze   \n",
            "2         1         1                       Nantucket Nectar   \n",
            "3         1         1  Chips and Tomatillo-Green Chili Salsa   \n",
            "4         2         2                           Chicken Bowl   \n",
            "5         3         1                           Chicken Bowl   \n",
            "6         3         1                          Side of Chips   \n",
            "7         4         1                          Steak Burrito   \n",
            "8         4         1                       Steak Soft Tacos   \n",
            "9         5         1                          Steak Burrito   \n",
            "\n",
            "                                  choice_description item_price  \n",
            "0                                                NaN     $2.39   \n",
            "1                                       [Clementine]     $3.39   \n",
            "2                                            [Apple]     $3.39   \n",
            "3                                                NaN     $2.39   \n",
            "4  [Tomatillo-Red Chili Salsa (Hot), [Black Beans...    $16.98   \n",
            "5  [Fresh Tomato Salsa (Mild), [Rice, Cheese, Sou...    $10.98   \n",
            "6                                                NaN     $1.69   \n",
            "7  [Tomatillo Red Chili Salsa, [Fajita Vegetables...    $11.75   \n",
            "8  [Tomatillo Green Chili Salsa, [Pinto Beans, Ch...     $9.25   \n",
            "9  [Fresh Tomato Salsa, [Rice, Black Beans, Pinto...     $9.25   \n",
            "\n",
            "-------------\n",
            "메뉴기준 sum\n",
            "-------------\n",
            "                       order_id  quantity\n",
            "item_name                                \n",
            "6 Pack Soft Drink         52322        55\n",
            "Barbacoa Bowl             53972        66\n",
            "Barbacoa Burrito          74718        91\n",
            "Barbacoa Crispy Tacos      5613        12\n",
            "Barbacoa Salad Bowl        9708        10\n",
            "\n",
            "-----------------------\n",
            "메뉴기준 sum (가격추가)\n",
            "-----------------------\n",
            "                       order_id  quantity  item_price\n",
            "item_name                                            \n",
            "6 Pack Soft Drink         52322        55      356.95\n",
            "Barbacoa Bowl             53972        66      672.36\n",
            "Barbacoa Burrito          74718        91      894.75\n",
            "Barbacoa Crispy Tacos      5613        12      120.21\n",
            "Barbacoa Salad Bowl        9708        10      106.40\n",
            "\n",
            "----------------\n",
            "저렴한 메뉴 5건\n",
            "-----------------------\n",
            "메뉴기준 sum (가격/건수)\n",
            "        (오름차순 정렬)(단위:$)\n",
            "-----------------------------\n",
            "                   real_price\n",
            "item_name                    \n",
            "Canned Soda          1.090000\n",
            "Canned Soft Drink    1.250000\n",
            "Bottled Water        1.433934\n",
            "Side of Chips        1.690000\n",
            "Chips                2.149304\n"
          ]
        }
      ]
    },
    {
      "cell_type": "markdown",
      "source": [
        "### **연습2: 공공 데이터 이용**\n",
        "공공 마이데이터 아이디어 제안시 사용하고자 하는 데이터 중 하나를 정해서 다운로드 받으시오. 다운로드 받은 데이터를 구글 드라이브에 업로드 후  앞에서 배운 코드들을 이용하여 (1) 기본적인 기술통계 정보, (2) 데이터 시각화를 통해 데이터를 탐색해 보시오. \n"
      ],
      "metadata": {
        "id": "gRtjG8TuaFbd"
      }
    },
    {
      "cell_type": "code",
      "source": [
        "#데이터 불러오기\n",
        "import pandas as pd\n",
        "df1=pd.read_csv(\"https://raw.githubusercontent.com/iecsh10/IT_reno/main/%EC%95%84%EB%8F%99%EB%B3%B5%EC%A7%80%EC%8B%9C%EC%84%A4%EC%88%98_%EB%B0%8F_%EB%B3%B4%ED%98%B8%EC%95%84%EB%8F%99%ED%98%84%ED%99%A9__%EC%8B%9C%EB%8F%84%EB%B3%84_20221005062854.csv\",encoding=\"CP949\")\n",
        "df2=pd.read_csv(\"https://raw.githubusercontent.com/iecsh10/IT_reno/main/%EC%84%9C%EC%9A%B8%EC%8B%9C%20%EC%82%AC%ED%9A%8C%EB%B3%B5%EC%A7%80%EC%8B%9C%EC%84%A4(%EC%95%84%EB%8F%99%EB%B3%B5%EC%A7%80%EC%8B%9C%EC%84%A4)%20%EB%AA%A9%EB%A1%9D.csv\",encoding=\"CP949\")"
      ],
      "metadata": {
        "id": "2tLAoRxKssVv"
      },
      "execution_count": 1,
      "outputs": []
    },
    {
      "cell_type": "code",
      "source": [
        "from traitlets.traitlets import describe\n",
        "#기본적인 기술통계정보\n",
        "print(\"\\n-------------------------df1.head()----------------------\\n\")\n",
        "print(df1.head())\n",
        "print(\"\\n---------------------------------------------------------\\n\")\n",
        "\n",
        "#기술통계정보 -> mean, 분산, median, 4분위수 등등... \n",
        "\n",
        "import pandas as pd\n",
        "df17=df1[['2017.3']]\n",
        "df18=df1[['2018.3']]\n",
        "df19=df1[['2019.3']]\n",
        "df1789=pd.concat([df17,df18,df19],axis=1)\n",
        "df1789x0x1=df1789.drop([0,1]) #문차 첫 행, 합계 행 제거 \n",
        "\n",
        "print(\"----------------------\\n 각 지역 연도별 퇴소자 수 \\n -----------------------------\")\n",
        "print(df1789x0x1)\n",
        "print(\"\\n----------------------\\n 각 지역 연도별 퇴소자 수 summary \\n------------------------\\n\")\n",
        "print(df1789x0x1.describe()) #혹시 이게 숫자가 아니라 문자인가..? \n"
      ],
      "metadata": {
        "id": "EViTTJOz6XNE",
        "colab": {
          "base_uri": "https://localhost:8080/"
        },
        "outputId": "0fc4ff2b-fb2f-4d09-87ff-6ecb41580b65"
      },
      "execution_count": 86,
      "outputs": [
        {
          "output_type": "stream",
          "name": "stdout",
          "text": [
            "\n",
            "-------------------------df1.head()----------------------\n",
            "\n",
            "   행정구역별(1)     2017   2017.1   2017.2        2017.3     2018   2018.1  \\\n",
            "0  행정구역별(1)  시설수 (개)  입소자 (명)  퇴소자 (명)  연말현재 수용자 (명)  시설수 (개)  입소자 (명)   \n",
            "1        전국      280     5543     6325         12789      279     3707   \n",
            "2     서울특별시       49     1639     1891          2737       49     1291   \n",
            "3     부산광역시       21      170      306          1106       20      182   \n",
            "4     대구광역시       23      270      277           757       23      197   \n",
            "\n",
            "    2018.2        2018.3     2019   2019.1   2019.2        2019.3  \n",
            "0  퇴소자 (명)  연말현재 수용자 (명)  시설수 (개)  입소자 (명)  퇴소자 (명)  연말현재 수용자 (명)  \n",
            "1     4365         12193      281     3776     4304         11665  \n",
            "2     1451          2577       49     1246     1482          2341  \n",
            "3      295           992       21      171      232           931  \n",
            "4      225           729       23      211      243           697  \n",
            "\n",
            "---------------------------------------------------------\n",
            "\n",
            "----------------------\n",
            " 각 지역 연도별 퇴소자 수 \n",
            " -----------------------------\n",
            "   2017.3 2018.3 2019.3\n",
            "2    2737   2577   2341\n",
            "3    1106    992    931\n",
            "4     757    729    697\n",
            "5     531    516    532\n",
            "6     563    529    507\n",
            "7     512    493    469\n",
            "8     127    115    117\n",
            "9      27     27     25\n",
            "10   1252   1212   1176\n",
            "11    334    312    318\n",
            "12    549    528    518\n",
            "13    634    619    590\n",
            "14    696    684    643\n",
            "15   1100   1046   1012\n",
            "16    714    707    708\n",
            "17    878    843    833\n",
            "18    272    264    248\n",
            "\n",
            "----------------------\n",
            " 각 지역 연도별 퇴소자 수 summary \n",
            "------------------------\n",
            "\n",
            "       2017.3 2018.3 2019.3\n",
            "count      17     17     17\n",
            "unique     17     17     17\n",
            "top      2737   2577   2341\n",
            "freq        1      1      1\n"
          ]
        }
      ]
    },
    {
      "cell_type": "code",
      "source": [
        "#데이터의 가장 최근 퇴소자의 지역별 비율 -> 파이차트가 효과적\n",
        "\n",
        "#마지막에서 -1열의 숫자 사용 -> ratio에 저장\n",
        "#0번째 열 (?)의 행 이름 사용 -> labels에 저장\n",
        "\n",
        "import pandas as pd\n",
        "#len(df1.columns)-1\n",
        "ratio=df1[\"2019.2\"] #ratio\n",
        "labels=df1[\"행정구역별(1)\"] #labels\n",
        "\n",
        "#0,1 행은 변수명과 전국 합계 수치이므로 제거 \n",
        "ratio=ratio.drop([0,1])\n",
        "labels=labels.drop([0,1])\n",
        "print(ratio.head())\n",
        "print(labels.head())\n",
        "\n",
        "%matplotlib inline\n",
        "import matplotlib as mpl               # 기본 설정\n",
        "import matplotlib.pyplot as plt        # 그래프 관련\n",
        "import matplotlib.font_manager as fm   # 폰트 관련\n",
        "mpl.rcParams['axes.unicode_minus'] = False  ## 마이너스 부호가 깨지는 것 방지 \n",
        "\n",
        "\n",
        "plt.pie(ratio,labels=labels, autopct='%.1f%%')\n",
        "plt.show\n",
        "\n",
        "#깨졌네요.. ^-^\n"
      ],
      "metadata": {
        "id": "KkpMCbmHuNc4",
        "colab": {
          "base_uri": "https://localhost:8080/",
          "height": 484
        },
        "outputId": "555933ff-fef3-4ab2-f2cd-62ac71c0a22d"
      },
      "execution_count": 32,
      "outputs": [
        {
          "output_type": "stream",
          "name": "stdout",
          "text": [
            "2    1482\n",
            "3     232\n",
            "4     243\n",
            "5     185\n",
            "6     114\n",
            "Name: 2019.2, dtype: object\n",
            "2    서울특별시\n",
            "3    부산광역시\n",
            "4    대구광역시\n",
            "5    인천광역시\n",
            "6    광주광역시\n",
            "Name: 행정구역별(1), dtype: object\n"
          ]
        },
        {
          "output_type": "execute_result",
          "data": {
            "text/plain": [
              "<function matplotlib.pyplot.show(*args, **kw)>"
            ]
          },
          "metadata": {},
          "execution_count": 32
        },
        {
          "output_type": "display_data",
          "data": {
            "text/plain": [
              "<Figure size 432x288 with 1 Axes>"
            ],
            "image/png": "[encoded data removed]"
          },
          "metadata": {}
        }
      ]
    },
    {
      "cell_type": "markdown",
      "source": [
        "#### 예제 : 서울시 따릉이 대여소별 대여/반납 승객수 정보\n",
        "-  다음  링크에서 bycl_20220731.csv 화일을 다운로드 받아 구글 드라이드에 업로드 하기   \n",
        " https://data.seoul.go.kr/dataList/OA-21229/F/1/datasetView.do"
      ],
      "metadata": {
        "id": "99_VkGE4eXXz"
      }
    },
    {
      "cell_type": "code",
      "source": [
        "from google.colab import drive\n",
        "drive.mount('/content/drive')"
      ],
      "metadata": {
        "colab": {
          "base_uri": "https://localhost:8080/"
        },
        "id": "20exg3SkeWCc",
        "outputId": "8fa1247b-52c8-498e-d4da-3715a0f00953"
      },
      "execution_count": null,
      "outputs": [
        {
          "output_type": "stream",
          "name": "stdout",
          "text": [
            "Drive already mounted at /content/drive; to attempt to forcibly remount, call drive.mount(\"/content/drive\", force_remount=True).\n"
          ]
        }
      ]
    },
    {
      "cell_type": "code",
      "source": [
        "import pandas as pd\n",
        "\n",
        "# csv 데이터 가져오기, 한글 데이터의 경우 인코딩 변경 \n",
        "bike = pd.read_csv(\"/content/drive/My Drive/Colab Notebooks/ITB/bycl_20220731.csv\", encoding='cp949')\n",
        "\n",
        "display(bike.head()) # 처음 5행 확인\n",
        "print(bike.info()) \n",
        "print(bike.describe()) "
      ],
      "metadata": {
        "colab": {
          "base_uri": "https://localhost:8080/",
          "height": 623
        },
        "id": "5-3QUbundVTZ",
        "outputId": "fead22b1-e486-45cc-cb39-61b9b2276d61"
      },
      "execution_count": null,
      "outputs": [
        {
          "output_type": "display_data",
          "data": {
            "text/plain": [
              "      기준_날짜  기준_시간   시작_대여소   종료_대여소  전체건수  전체_이용_분  전체_이용_거리\n",
              "0  20220731      0   ST-462   ST-555     1       63      1990\n",
              "1  20220731      0  ST-2815   ST-419     1        6       920\n",
              "2  20220731      0  ST-1109  ST-1213     1       26      5000\n",
              "3  20220731      0   ST-148  ST-3052     1        8       253\n",
              "4  20220731      0  ST-1690   ST-106     1       10      1750"
            ],
            "text/html": [
              "\n",
              "  <div id=\"df-63a01297-e36b-49a6-854f-4ae06e769965\">\n",
              "    <div class=\"colab-df-container\">\n",
              "      <div>\n",
              "<style scoped>\n",
              "    .dataframe tbody tr th:only-of-type {\n",
              "        vertical-align: middle;\n",
              "    }\n",
              "\n",
              "    .dataframe tbody tr th {\n",
              "        vertical-align: top;\n",
              "    }\n",
              "\n",
              "    .dataframe thead th {\n",
              "        text-align: right;\n",
              "    }\n",
              "</style>\n",
              "<table border=\"1\" class=\"dataframe\">\n",
              "  <thead>\n",
              "    <tr style=\"text-align: right;\">\n",
              "      <th></th>\n",
              "      <th>기준_날짜</th>\n",
              "      <th>기준_시간</th>\n",
              "      <th>시작_대여소</th>\n",
              "      <th>종료_대여소</th>\n",
              "      <th>전체건수</th>\n",
              "      <th>전체_이용_분</th>\n",
              "      <th>전체_이용_거리</th>\n",
              "    </tr>\n",
              "  </thead>\n",
              "  <tbody>\n",
              "    <tr>\n",
              "      <th>0</th>\n",
              "      <td>20220731</td>\n",
              "      <td>0</td>\n",
              "      <td>ST-462</td>\n",
              "      <td>ST-555</td>\n",
              "      <td>1</td>\n",
              "      <td>63</td>\n",
              "      <td>1990</td>\n",
              "    </tr>\n",
              "    <tr>\n",
              "      <th>1</th>\n",
              "      <td>20220731</td>\n",
              "      <td>0</td>\n",
              "      <td>ST-2815</td>\n",
              "      <td>ST-419</td>\n",
              "      <td>1</td>\n",
              "      <td>6</td>\n",
              "      <td>920</td>\n",
              "    </tr>\n",
              "    <tr>\n",
              "      <th>2</th>\n",
              "      <td>20220731</td>\n",
              "      <td>0</td>\n",
              "      <td>ST-1109</td>\n",
              "      <td>ST-1213</td>\n",
              "      <td>1</td>\n",
              "      <td>26</td>\n",
              "      <td>5000</td>\n",
              "    </tr>\n",
              "    <tr>\n",
              "      <th>3</th>\n",
              "      <td>20220731</td>\n",
              "      <td>0</td>\n",
              "      <td>ST-148</td>\n",
              "      <td>ST-3052</td>\n",
              "      <td>1</td>\n",
              "      <td>8</td>\n",
              "      <td>253</td>\n",
              "    </tr>\n",
              "    <tr>\n",
              "      <th>4</th>\n",
              "      <td>20220731</td>\n",
              "      <td>0</td>\n",
              "      <td>ST-1690</td>\n",
              "      <td>ST-106</td>\n",
              "      <td>1</td>\n",
              "      <td>10</td>\n",
              "      <td>1750</td>\n",
              "    </tr>\n",
              "  </tbody>\n",
              "</table>\n",
              "</div>\n",
              "      <button class=\"colab-df-convert\" onclick=\"convertToInteractive('df-63a01297-e36b-49a6-854f-4ae06e769965')\"\n",
              "              title=\"Convert this dataframe to an interactive table.\"\n",
              "              style=\"display:none;\">\n",
              "        \n",
              "  <svg xmlns=\"http://www.w3.org/2000/svg\" height=\"24px\"viewBox=\"0 0 24 24\"\n",
              "       width=\"24px\">\n",
              "    <path d=\"M0 0h24v24H0V0z\" fill=\"none\"/>\n",
              "    <path d=\"M18.56 5.44l.94 2.06.94-2.06 2.06-.94-2.06-.94-.94-2.06-.94 2.06-2.06.94zm-11 1L8.5 8.5l.94-2.06 2.06-.94-2.06-.94L8.5 2.5l-.94 2.06-2.06.94zm10 10l.94 2.06.94-2.06 2.06-.94-2.06-.94-.94-2.06-.94 2.06-2.06.94z\"/><path d=\"M17.41 7.96l-1.37-1.37c-.4-.4-.92-.59-1.43-.59-.52 0-1.04.2-1.43.59L10.3 9.45l-7.72 7.72c-.78.78-.78 2.05 0 2.83L4 21.41c.39.39.9.59 1.41.59.51 0 1.02-.2 1.41-.59l7.78-7.78 2.81-2.81c.8-.78.8-2.07 0-2.86zM5.41 20L4 18.59l7.72-7.72 1.47 1.35L5.41 20z\"/>\n",
              "  </svg>\n",
              "      </button>\n",
              "      \n",
              "  <style>\n",
              "    .colab-df-container {\n",
              "      display:flex;\n",
              "      flex-wrap:wrap;\n",
              "      gap: 12px;\n",
              "    }\n",
              "\n",
              "    .colab-df-convert {\n",
              "      background-color: #E8F0FE;\n",
              "      border: none;\n",
              "      border-radius: 50%;\n",
              "      cursor: pointer;\n",
              "      display: none;\n",
              "      fill: #1967D2;\n",
              "      height: 32px;\n",
              "      padding: 0 0 0 0;\n",
              "      width: 32px;\n",
              "    }\n",
              "\n",
              "    .colab-df-convert:hover {\n",
              "      background-color: #E2EBFA;\n",
              "      box-shadow: 0px 1px 2px rgba(60, 64, 67, 0.3), 0px 1px 3px 1px rgba(60, 64, 67, 0.15);\n",
              "      fill: #174EA6;\n",
              "    }\n",
              "\n",
              "    [theme=dark] .colab-df-convert {\n",
              "      background-color: #3B4455;\n",
              "      fill: #D2E3FC;\n",
              "    }\n",
              "\n",
              "    [theme=dark] .colab-df-convert:hover {\n",
              "      background-color: #434B5C;\n",
              "      box-shadow: 0px 1px 3px 1px rgba(0, 0, 0, 0.15);\n",
              "      filter: drop-shadow(0px 1px 2px rgba(0, 0, 0, 0.3));\n",
              "      fill: #FFFFFF;\n",
              "    }\n",
              "  </style>\n",
              "\n",
              "      <script>\n",
              "        const buttonEl =\n",
              "          document.querySelector('#df-63a01297-e36b-49a6-854f-4ae06e769965 button.colab-df-convert');\n",
              "        buttonEl.style.display =\n",
              "          google.colab.kernel.accessAllowed ? 'block' : 'none';\n",
              "\n",
              "        async function convertToInteractive(key) {\n",
              "          const element = document.querySelector('#df-63a01297-e36b-49a6-854f-4ae06e769965');\n",
              "          const dataTable =\n",
              "            await google.colab.kernel.invokeFunction('convertToInteractive',\n",
              "                                                     [key], {});\n",
              "          if (!dataTable) return;\n",
              "\n",
              "          const docLinkHtml = 'Like what you see? Visit the ' +\n",
              "            '<a target=\"_blank\" href=https://colab.research.google.com/notebooks/data_table.ipynb>data table notebook</a>'\n",
              "            + ' to learn more about interactive tables.';\n",
              "          element.innerHTML = '';\n",
              "          dataTable['output_type'] = 'display_data';\n",
              "          await google.colab.output.renderOutput(dataTable, element);\n",
              "          const docLink = document.createElement('div');\n",
              "          docLink.innerHTML = docLinkHtml;\n",
              "          element.appendChild(docLink);\n",
              "        }\n",
              "      </script>\n",
              "    </div>\n",
              "  </div>\n",
              "  "
            ]
          },
          "metadata": {}
        },
        {
          "output_type": "stream",
          "name": "stdout",
          "text": [
            "<class 'pandas.core.frame.DataFrame'>\n",
            "RangeIndex: 57583 entries, 0 to 57582\n",
            "Data columns (total 7 columns):\n",
            " #   Column    Non-Null Count  Dtype \n",
            "---  ------    --------------  ----- \n",
            " 0   기준_날짜     57583 non-null  int64 \n",
            " 1   기준_시간     57583 non-null  int64 \n",
            " 2   시작_대여소    57583 non-null  object\n",
            " 3   종료_대여소    57583 non-null  object\n",
            " 4   전체건수      57583 non-null  int64 \n",
            " 5   전체_이용_분   57583 non-null  int64 \n",
            " 6   전체_이용_거리  57583 non-null  int64 \n",
            "dtypes: int64(5), object(2)\n",
            "memory usage: 3.1+ MB\n",
            "None\n",
            "            기준_날짜         기준_시간          전체건수       전체_이용_분      전체_이용_거리\n",
            "count     57583.0  57583.000000  57583.000000  57583.000000  57583.000000\n",
            "mean   20220731.0    782.095150      1.063300     23.120852   2863.516263\n",
            "std           0.0    608.740475      0.275619     34.758532   3940.499932\n",
            "min    20220731.0      0.000000      1.000000      0.000000      0.000000\n",
            "25%    20220731.0    215.000000      1.000000      6.000000    842.000000\n",
            "50%    20220731.0    800.000000      1.000000     11.000000   1555.000000\n",
            "75%    20220731.0   1110.000000      1.000000     27.000000   3130.000000\n",
            "max    20220731.0   2355.000000      6.000000    939.000000  73509.000000\n"
          ]
        }
      ]
    },
    {
      "cell_type": "code",
      "source": [
        " bike['기준_시간'].plot.hist()"
      ],
      "metadata": {
        "colab": {
          "base_uri": "https://localhost:8080/",
          "height": 281
        },
        "id": "mHpUKDtZgHIb",
        "outputId": "cc598870-782b-4e7a-d131-957810f6bcae"
      },
      "execution_count": null,
      "outputs": [
        {
          "output_type": "execute_result",
          "data": {
            "text/plain": [
              "<matplotlib.axes._subplots.AxesSubplot at 0x7f31342ff550>"
            ]
          },
          "metadata": {},
          "execution_count": 218
        },
        {
          "output_type": "display_data",
          "data": {
            "text/plain": [
              "<Figure size 432x288 with 1 Axes>"
            ],
            "image/png": "[encoded data removed]"
          },
          "metadata": {
            "needs_background": "light"
          }
        }
      ]
    },
    {
      "cell_type": "code",
      "source": [
        "print('시작 대여소 개수:', len(bike['시작_대여소'].unique()))    # unique: 고유값\n",
        " \n",
        "bike_start= bike.groupby('시작_대여소')['전체건수'].sum()\n",
        "bike_start_sorted = bike_start.sort_values(ascending=False)[:5]\n",
        "print(bike_start_sorted)"
      ],
      "metadata": {
        "colab": {
          "base_uri": "https://localhost:8080/"
        },
        "id": "y_L2QurFeO2J",
        "outputId": "3ab12126-4124-41a4-ad86-67929fa58c18"
      },
      "execution_count": null,
      "outputs": [
        {
          "output_type": "stream",
          "name": "stdout",
          "text": [
            "시작 대여소 개수: 2513\n",
            "시작_대여소\n",
            "ST-73      416\n",
            "ST-2905    258\n",
            "ST-702     226\n",
            "ST-99      188\n",
            "ST-1546    156\n",
            "Name: 전체건수, dtype: int64\n"
          ]
        }
      ]
    },
    {
      "cell_type": "code",
      "source": [
        "bike_start_sorted .plot.bar(rot=45)"
      ],
      "metadata": {
        "colab": {
          "base_uri": "https://localhost:8080/",
          "height": 320
        },
        "id": "-71kIQr2ffXg",
        "outputId": "203a988d-22b3-46f5-d7e2-249382fabbf2"
      },
      "execution_count": null,
      "outputs": [
        {
          "output_type": "execute_result",
          "data": {
            "text/plain": [
              "<matplotlib.axes._subplots.AxesSubplot at 0x7f312395af90>"
            ]
          },
          "metadata": {},
          "execution_count": 231
        },
        {
          "output_type": "display_data",
          "data": {
            "text/plain": [
              "<Figure size 432x288 with 1 Axes>"
            ],
            "image/png": "[encoded data removed]"
          },
          "metadata": {
            "needs_background": "light"
          }
        }
      ]
    }
  ]
}